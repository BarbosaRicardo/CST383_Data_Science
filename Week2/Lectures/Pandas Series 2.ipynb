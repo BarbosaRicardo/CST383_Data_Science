{
 "metadata": {
  "language_info": {
   "codemirror_mode": {
    "name": "ipython",
    "version": 3
   },
   "file_extension": ".py",
   "mimetype": "text/x-python",
   "name": "python",
   "nbconvert_exporter": "python",
   "pygments_lexer": "ipython3",
   "version": "3.8.5-final"
  },
  "orig_nbformat": 2,
  "kernelspec": {
   "name": "python3",
   "display_name": "Python 3",
   "language": "python"
  }
 },
 "nbformat": 4,
 "nbformat_minor": 2,
 "cells": [
  {
   "source": [
    "## Pandas Dataframes"
   ],
   "cell_type": "markdown",
   "metadata": {}
  },
  {
   "cell_type": "code",
   "execution_count": 3,
   "metadata": {},
   "outputs": [],
   "source": [
    "import pandas as pd"
   ]
  },
  {
   "cell_type": "code",
   "execution_count": 7,
   "metadata": {},
   "outputs": [
    {
     "output_type": "stream",
     "name": "stdout",
     "text": [
      "     hw1  hw2\n001   89   92\n002   74   90\n003   68   78\n004   94   97\n"
     ]
    }
   ],
   "source": [
    "hw = pd.DataFrame({'hw1': [89,74,68,94],\n",
    "                   'hw2':[92,90,78,97]},\n",
    "                    index=['001', '002', '003', '004'])\n",
    "print(hw)"
   ]
  },
  {
   "cell_type": "code",
   "execution_count": 8,
   "metadata": {},
   "outputs": [
    {
     "output_type": "execute_result",
     "data": {
      "text/plain": [
       "array([[89, 92],\n",
       "       [74, 90],\n",
       "       [68, 78],\n",
       "       [94, 97]], dtype=int64)"
      ]
     },
     "metadata": {},
     "execution_count": 8
    }
   ],
   "source": [
    "hw.values"
   ]
  },
  {
   "cell_type": "code",
   "execution_count": 9,
   "metadata": {},
   "outputs": [
    {
     "output_type": "execute_result",
     "data": {
      "text/plain": [
       "Index(['001', '002', '003', '004'], dtype='object')"
      ]
     },
     "metadata": {},
     "execution_count": 9
    }
   ],
   "source": [
    "hw.index"
   ]
  },
  {
   "cell_type": "code",
   "execution_count": 10,
   "metadata": {},
   "outputs": [
    {
     "output_type": "execute_result",
     "data": {
      "text/plain": [
       "Index(['hw1', 'hw2'], dtype='object')"
      ]
     },
     "metadata": {},
     "execution_count": 10
    }
   ],
   "source": [
    "hw.columns"
   ]
  },
  {
   "source": [
    "## Creating DataFrames"
   ],
   "cell_type": "markdown",
   "metadata": {}
  },
  {
   "cell_type": "code",
   "execution_count": 13,
   "metadata": {},
   "outputs": [
    {
     "output_type": "stream",
     "name": "stdout",
     "text": [
      "   hw1  hw2\n0   89   92\n1   74   90\n2   68   78\n3   94   97\n"
     ]
    }
   ],
   "source": [
    "hw = pd.DataFrame({'hw1': [89,74,68,94],\n",
    "                   'hw2':[92,90,78,97]})\n",
    "print(hw)    "
   ]
  },
  {
   "source": [
    "Add a new column"
   ],
   "cell_type": "markdown",
   "metadata": {}
  },
  {
   "cell_type": "code",
   "execution_count": 14,
   "metadata": {},
   "outputs": [
    {
     "output_type": "stream",
     "name": "stdout",
     "text": [
      "   hw1  hw2  hw3\n0   89   92   86\n1   74   90   77\n2   68   78   80\n3   94   97   86\n"
     ]
    }
   ],
   "source": [
    "hw['hw3'] = [86,77,80,86]\n",
    "print(hw)"
   ]
  },
  {
   "cell_type": "code",
   "execution_count": 15,
   "metadata": {},
   "outputs": [],
   "source": [
    "hw['hw3'] = pd.Series([86,77,80,86], index=hw.index) # use this to force the index incase the indices of the new col don't match the current index. "
   ]
  },
  {
   "source": [
    "## Dataframe indexing with .iloc\n",
    "For either index we can use:\n",
    "- an int (implicit index value)\n",
    "- a list of array of ints\n",
    "- a slice with ints\n",
    "- a bool mask"
   ],
   "cell_type": "markdown",
   "metadata": {}
  },
  {
   "cell_type": "code",
   "execution_count": 17,
   "metadata": {},
   "outputs": [
    {
     "output_type": "stream",
     "name": "stdout",
     "text": [
      "     hw1  hw2\n001   89   92\n002   74   90\n003   68   78\n004   94   97\n"
     ]
    }
   ],
   "source": [
    "hw = pd.DataFrame({'hw1': [89,74,68,94],\n",
    "                   'hw2':[92,90,78,97]},\n",
    "                    index=['001', '002', '003', '004'])\n",
    "print(hw)"
   ]
  },
  {
   "cell_type": "code",
   "execution_count": 18,
   "metadata": {},
   "outputs": [
    {
     "output_type": "execute_result",
     "data": {
      "text/plain": [
       "92"
      ]
     },
     "metadata": {},
     "execution_count": 18
    }
   ],
   "source": [
    "hw.iloc[0,1] # returns row 0 col 1"
   ]
  },
  {
   "cell_type": "code",
   "execution_count": 21,
   "metadata": {},
   "outputs": [
    {
     "output_type": "execute_result",
     "data": {
      "text/plain": [
       "002    90\n",
       "Name: hw2, dtype: int64"
      ]
     },
     "metadata": {},
     "execution_count": 21
    }
   ],
   "source": [
    "hw.iloc[1:2,1] # returns rows 1-2(exclusive) of col 1"
   ]
  },
  {
   "cell_type": "code",
   "execution_count": 22,
   "metadata": {},
   "outputs": [
    {
     "output_type": "execute_result",
     "data": {
      "text/plain": [
       "     hw2  hw1\n",
       "001   92   89\n",
       "002   90   74\n",
       "003   78   68\n",
       "004   97   94"
      ],
      "text/html": "<div>\n<style scoped>\n    .dataframe tbody tr th:only-of-type {\n        vertical-align: middle;\n    }\n\n    .dataframe tbody tr th {\n        vertical-align: top;\n    }\n\n    .dataframe thead th {\n        text-align: right;\n    }\n</style>\n<table border=\"1\" class=\"dataframe\">\n  <thead>\n    <tr style=\"text-align: right;\">\n      <th></th>\n      <th>hw2</th>\n      <th>hw1</th>\n    </tr>\n  </thead>\n  <tbody>\n    <tr>\n      <th>001</th>\n      <td>92</td>\n      <td>89</td>\n    </tr>\n    <tr>\n      <th>002</th>\n      <td>90</td>\n      <td>74</td>\n    </tr>\n    <tr>\n      <th>003</th>\n      <td>78</td>\n      <td>68</td>\n    </tr>\n    <tr>\n      <th>004</th>\n      <td>97</td>\n      <td>94</td>\n    </tr>\n  </tbody>\n</table>\n</div>"
     },
     "metadata": {},
     "execution_count": 22
    }
   ],
   "source": [
    "hw.iloc[:,::-1] # returns all rows with cols reversed"
   ]
  },
  {
   "cell_type": "code",
   "execution_count": 23,
   "metadata": {},
   "outputs": [
    {
     "output_type": "execute_result",
     "data": {
      "text/plain": [
       "     hw1  hw2\n",
       "001   89   92\n",
       "003   68   78"
      ],
      "text/html": "<div>\n<style scoped>\n    .dataframe tbody tr th:only-of-type {\n        vertical-align: middle;\n    }\n\n    .dataframe tbody tr th {\n        vertical-align: top;\n    }\n\n    .dataframe thead th {\n        text-align: right;\n    }\n</style>\n<table border=\"1\" class=\"dataframe\">\n  <thead>\n    <tr style=\"text-align: right;\">\n      <th></th>\n      <th>hw1</th>\n      <th>hw2</th>\n    </tr>\n  </thead>\n  <tbody>\n    <tr>\n      <th>001</th>\n      <td>89</td>\n      <td>92</td>\n    </tr>\n    <tr>\n      <th>003</th>\n      <td>68</td>\n      <td>78</td>\n    </tr>\n  </tbody>\n</table>\n</div>"
     },
     "metadata": {},
     "execution_count": 23
    }
   ],
   "source": [
    "hw.iloc[[0,2], :] # using fancy indexing returns rows 0 and row 2 with all cols"
   ]
  },
  {
   "source": [
    "## Microquiz\n",
    "2 ways to show the middle two rows of hw"
   ],
   "cell_type": "markdown",
   "metadata": {}
  },
  {
   "cell_type": "code",
   "execution_count": 28,
   "metadata": {},
   "outputs": [
    {
     "output_type": "stream",
     "name": "stdout",
     "text": [
      "     hw1  hw2\n001   89   92\n002   74   90\n003   68   78\n004   94   97\n"
     ]
    },
    {
     "output_type": "execute_result",
     "data": {
      "text/plain": [
       "     hw1  hw2\n",
       "002   74   90\n",
       "003   68   78"
      ],
      "text/html": "<div>\n<style scoped>\n    .dataframe tbody tr th:only-of-type {\n        vertical-align: middle;\n    }\n\n    .dataframe tbody tr th {\n        vertical-align: top;\n    }\n\n    .dataframe thead th {\n        text-align: right;\n    }\n</style>\n<table border=\"1\" class=\"dataframe\">\n  <thead>\n    <tr style=\"text-align: right;\">\n      <th></th>\n      <th>hw1</th>\n      <th>hw2</th>\n    </tr>\n  </thead>\n  <tbody>\n    <tr>\n      <th>002</th>\n      <td>74</td>\n      <td>90</td>\n    </tr>\n    <tr>\n      <th>003</th>\n      <td>68</td>\n      <td>78</td>\n    </tr>\n  </tbody>\n</table>\n</div>"
     },
     "metadata": {},
     "execution_count": 28
    }
   ],
   "source": [
    "print(hw)"
   ]
  },
  {
   "cell_type": "code",
   "execution_count": 30,
   "metadata": {},
   "outputs": [
    {
     "output_type": "execute_result",
     "data": {
      "text/plain": [
       "     hw1  hw2\n",
       "002   74   90\n",
       "003   68   78"
      ],
      "text/html": "<div>\n<style scoped>\n    .dataframe tbody tr th:only-of-type {\n        vertical-align: middle;\n    }\n\n    .dataframe tbody tr th {\n        vertical-align: top;\n    }\n\n    .dataframe thead th {\n        text-align: right;\n    }\n</style>\n<table border=\"1\" class=\"dataframe\">\n  <thead>\n    <tr style=\"text-align: right;\">\n      <th></th>\n      <th>hw1</th>\n      <th>hw2</th>\n    </tr>\n  </thead>\n  <tbody>\n    <tr>\n      <th>002</th>\n      <td>74</td>\n      <td>90</td>\n    </tr>\n    <tr>\n      <th>003</th>\n      <td>68</td>\n      <td>78</td>\n    </tr>\n  </tbody>\n</table>\n</div>"
     },
     "metadata": {},
     "execution_count": 30
    }
   ],
   "source": [
    "hw.iloc[[1,2],:]"
   ]
  },
  {
   "cell_type": "code",
   "execution_count": 27,
   "metadata": {},
   "outputs": [
    {
     "output_type": "execute_result",
     "data": {
      "text/plain": [
       "     hw1  hw2\n",
       "002   74   90\n",
       "003   68   78"
      ],
      "text/html": "<div>\n<style scoped>\n    .dataframe tbody tr th:only-of-type {\n        vertical-align: middle;\n    }\n\n    .dataframe tbody tr th {\n        vertical-align: top;\n    }\n\n    .dataframe thead th {\n        text-align: right;\n    }\n</style>\n<table border=\"1\" class=\"dataframe\">\n  <thead>\n    <tr style=\"text-align: right;\">\n      <th></th>\n      <th>hw1</th>\n      <th>hw2</th>\n    </tr>\n  </thead>\n  <tbody>\n    <tr>\n      <th>002</th>\n      <td>74</td>\n      <td>90</td>\n    </tr>\n    <tr>\n      <th>003</th>\n      <td>68</td>\n      <td>78</td>\n    </tr>\n  </tbody>\n</table>\n</div>"
     },
     "metadata": {},
     "execution_count": 27
    }
   ],
   "source": [
    "hw.iloc[1:3,:]\n"
   ]
  },
  {
   "cell_type": "code",
   "execution_count": 31,
   "metadata": {},
   "outputs": [
    {
     "output_type": "execute_result",
     "data": {
      "text/plain": [
       "     hw1  hw2\n",
       "002   74   90\n",
       "003   68   78"
      ],
      "text/html": "<div>\n<style scoped>\n    .dataframe tbody tr th:only-of-type {\n        vertical-align: middle;\n    }\n\n    .dataframe tbody tr th {\n        vertical-align: top;\n    }\n\n    .dataframe thead th {\n        text-align: right;\n    }\n</style>\n<table border=\"1\" class=\"dataframe\">\n  <thead>\n    <tr style=\"text-align: right;\">\n      <th></th>\n      <th>hw1</th>\n      <th>hw2</th>\n    </tr>\n  </thead>\n  <tbody>\n    <tr>\n      <th>002</th>\n      <td>74</td>\n      <td>90</td>\n    </tr>\n    <tr>\n      <th>003</th>\n      <td>68</td>\n      <td>78</td>\n    </tr>\n  </tbody>\n</table>\n</div>"
     },
     "metadata": {},
     "execution_count": 31
    }
   ],
   "source": [
    "hw.iloc[1:3]"
   ]
  },
  {
   "source": [
    "## Dataframe indexing with .loc"
   ],
   "cell_type": "markdown",
   "metadata": {}
  },
  {
   "cell_type": "code",
   "execution_count": 33,
   "metadata": {},
   "outputs": [
    {
     "output_type": "stream",
     "name": "stdout",
     "text": [
      "     hw1  hw2\n001   89   92\n002   74   90\n003   68   78\n004   94   97\n"
     ]
    }
   ],
   "source": [
    "print(hw)"
   ]
  },
  {
   "cell_type": "code",
   "execution_count": 34,
   "metadata": {},
   "outputs": [
    {
     "output_type": "execute_result",
     "data": {
      "text/plain": [
       "92"
      ]
     },
     "metadata": {},
     "execution_count": 34
    }
   ],
   "source": [
    "hw.loc['001', 'hw2'] # using labels"
   ]
  },
  {
   "cell_type": "code",
   "execution_count": 35,
   "metadata": {},
   "outputs": [
    {
     "output_type": "execute_result",
     "data": {
      "text/plain": [
       "hw1    89\n",
       "hw2    92\n",
       "Name: 001, dtype: int64"
      ]
     },
     "metadata": {},
     "execution_count": 35
    }
   ],
   "source": [
    "hw.loc['001',:] # all cols for label 001"
   ]
  },
  {
   "cell_type": "code",
   "execution_count": 36,
   "metadata": {},
   "outputs": [
    {
     "output_type": "execute_result",
     "data": {
      "text/plain": [
       "001    89\n",
       "002    74\n",
       "Name: hw1, dtype: int64"
      ]
     },
     "metadata": {},
     "execution_count": 36
    }
   ],
   "source": [
    "hw.loc['001':'002', 'hw1'] # starts at label 001 and ends at label 002 (inclusive) with col hw1"
   ]
  },
  {
   "source": [
    "## Microquiz\n",
    "Select middle rows with loc"
   ],
   "cell_type": "markdown",
   "metadata": {}
  },
  {
   "cell_type": "code",
   "execution_count": 40,
   "metadata": {},
   "outputs": [
    {
     "output_type": "stream",
     "name": "stdout",
     "text": [
      "     hw1  hw2\n001   89   92\n002   74   90\n003   68   78\n004   94   97\nShort slicing:\n      hw1  hw2\n002   74   90\n003   68   78\nSlicing:\n      hw1  hw2\n002   74   90\n003   68   78\nFancy indexing:\n      hw1  hw2\n002   74   90\n003   68   78\n"
     ]
    }
   ],
   "source": [
    "print(hw)\n",
    "print(\"Short slicing:\\n\",hw.loc['002':'003'])\n",
    "print(\"Slicing:\\n\", hw.loc['002':'003', :])\n",
    "print(\"Fancy indexing:\\n\", hw.loc[['002','003'],:])"
   ]
  },
  {
   "source": [
    "## Dataframe Indexing Dictionary Style"
   ],
   "cell_type": "markdown",
   "metadata": {}
  },
  {
   "cell_type": "code",
   "execution_count": null,
   "metadata": {},
   "outputs": [],
   "source": []
  }
 ]
}