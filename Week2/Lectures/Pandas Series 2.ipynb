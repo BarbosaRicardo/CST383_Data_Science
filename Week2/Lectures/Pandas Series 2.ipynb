{
 "metadata": {
  "language_info": {
   "codemirror_mode": {
    "name": "ipython",
    "version": 3
   },
   "file_extension": ".py",
   "mimetype": "text/x-python",
   "name": "python",
   "nbconvert_exporter": "python",
   "pygments_lexer": "ipython3",
   "version": "3.8.5-final"
  },
  "orig_nbformat": 2,
  "kernelspec": {
   "name": "python3",
   "display_name": "Python 3",
   "language": "python"
  }
 },
 "nbformat": 4,
 "nbformat_minor": 2,
 "cells": [
  {
   "source": [
    "## Pandas Dataframes"
   ],
   "cell_type": "markdown",
   "metadata": {}
  },
  {
   "cell_type": "code",
   "execution_count": 2,
   "metadata": {},
   "outputs": [],
   "source": [
    "import pandas as pd"
   ]
  },
  {
   "cell_type": "code",
   "execution_count": 3,
   "metadata": {},
   "outputs": [
    {
     "output_type": "stream",
     "name": "stdout",
     "text": [
      "     hw1  hw2\n001   89   92\n002   74   90\n003   68   78\n004   94   97\n"
     ]
    }
   ],
   "source": [
    "hw = pd.DataFrame({'hw1': [89,74,68,94],\n",
    "                   'hw2':[92,90,78,97]},\n",
    "                    index=['001', '002', '003', '004'])\n",
    "print(hw)"
   ]
  },
  {
   "cell_type": "code",
   "execution_count": 4,
   "metadata": {},
   "outputs": [
    {
     "output_type": "execute_result",
     "data": {
      "text/plain": [
       "array([[89, 92],\n",
       "       [74, 90],\n",
       "       [68, 78],\n",
       "       [94, 97]], dtype=int64)"
      ]
     },
     "metadata": {},
     "execution_count": 4
    }
   ],
   "source": [
    "hw.values"
   ]
  },
  {
   "cell_type": "code",
   "execution_count": 5,
   "metadata": {},
   "outputs": [
    {
     "output_type": "execute_result",
     "data": {
      "text/plain": [
       "Index(['001', '002', '003', '004'], dtype='object')"
      ]
     },
     "metadata": {},
     "execution_count": 5
    }
   ],
   "source": [
    "hw.index"
   ]
  },
  {
   "cell_type": "code",
   "execution_count": 6,
   "metadata": {},
   "outputs": [
    {
     "output_type": "execute_result",
     "data": {
      "text/plain": [
       "Index(['hw1', 'hw2'], dtype='object')"
      ]
     },
     "metadata": {},
     "execution_count": 6
    }
   ],
   "source": [
    "hw.columns"
   ]
  },
  {
   "source": [
    "## Creating DataFrames"
   ],
   "cell_type": "markdown",
   "metadata": {}
  },
  {
   "cell_type": "code",
   "execution_count": 7,
   "metadata": {},
   "outputs": [
    {
     "output_type": "stream",
     "name": "stdout",
     "text": [
      "   hw1  hw2\n0   89   92\n1   74   90\n2   68   78\n3   94   97\n"
     ]
    }
   ],
   "source": [
    "hw = pd.DataFrame({'hw1': [89,74,68,94],\n",
    "                   'hw2':[92,90,78,97]})\n",
    "print(hw)    "
   ]
  },
  {
   "source": [
    "Add a new column"
   ],
   "cell_type": "markdown",
   "metadata": {}
  },
  {
   "cell_type": "code",
   "execution_count": 8,
   "metadata": {},
   "outputs": [
    {
     "output_type": "stream",
     "name": "stdout",
     "text": [
      "   hw1  hw2  hw3\n0   89   92   86\n1   74   90   77\n2   68   78   80\n3   94   97   86\n"
     ]
    }
   ],
   "source": [
    "hw['hw3'] = [86,77,80,86]\n",
    "print(hw)"
   ]
  },
  {
   "cell_type": "code",
   "execution_count": 9,
   "metadata": {},
   "outputs": [],
   "source": [
    "hw['hw3'] = pd.Series([86,77,80,86], index=hw.index) # use this to force the index incase the indices of the new col don't match the current index. "
   ]
  },
  {
   "source": [
    "## Dataframe indexing with .iloc\n",
    "For either index we can use:\n",
    "- an int (implicit index value)\n",
    "- a list of array of ints\n",
    "- a slice with ints\n",
    "- a bool mask"
   ],
   "cell_type": "markdown",
   "metadata": {}
  },
  {
   "cell_type": "code",
   "execution_count": 10,
   "metadata": {},
   "outputs": [
    {
     "output_type": "stream",
     "name": "stdout",
     "text": [
      "     hw1  hw2\n001   89   92\n002   74   90\n003   68   78\n004   94   97\n"
     ]
    }
   ],
   "source": [
    "hw = pd.DataFrame({'hw1': [89,74,68,94],\n",
    "                   'hw2':[92,90,78,97]},\n",
    "                    index=['001', '002', '003', '004'])\n",
    "print(hw)"
   ]
  },
  {
   "cell_type": "code",
   "execution_count": 11,
   "metadata": {},
   "outputs": [
    {
     "output_type": "execute_result",
     "data": {
      "text/plain": [
       "92"
      ]
     },
     "metadata": {},
     "execution_count": 11
    }
   ],
   "source": [
    "hw.iloc[0,1] # returns row 0 col 1"
   ]
  },
  {
   "cell_type": "code",
   "execution_count": 12,
   "metadata": {},
   "outputs": [
    {
     "output_type": "execute_result",
     "data": {
      "text/plain": [
       "002    90\n",
       "Name: hw2, dtype: int64"
      ]
     },
     "metadata": {},
     "execution_count": 12
    }
   ],
   "source": [
    "hw.iloc[1:2,1] # returns rows 1-2(exclusive) of col 1"
   ]
  },
  {
   "cell_type": "code",
   "execution_count": 13,
   "metadata": {},
   "outputs": [
    {
     "output_type": "execute_result",
     "data": {
      "text/plain": [
       "     hw2  hw1\n",
       "001   92   89\n",
       "002   90   74\n",
       "003   78   68\n",
       "004   97   94"
      ],
      "text/html": "<div>\n<style scoped>\n    .dataframe tbody tr th:only-of-type {\n        vertical-align: middle;\n    }\n\n    .dataframe tbody tr th {\n        vertical-align: top;\n    }\n\n    .dataframe thead th {\n        text-align: right;\n    }\n</style>\n<table border=\"1\" class=\"dataframe\">\n  <thead>\n    <tr style=\"text-align: right;\">\n      <th></th>\n      <th>hw2</th>\n      <th>hw1</th>\n    </tr>\n  </thead>\n  <tbody>\n    <tr>\n      <th>001</th>\n      <td>92</td>\n      <td>89</td>\n    </tr>\n    <tr>\n      <th>002</th>\n      <td>90</td>\n      <td>74</td>\n    </tr>\n    <tr>\n      <th>003</th>\n      <td>78</td>\n      <td>68</td>\n    </tr>\n    <tr>\n      <th>004</th>\n      <td>97</td>\n      <td>94</td>\n    </tr>\n  </tbody>\n</table>\n</div>"
     },
     "metadata": {},
     "execution_count": 13
    }
   ],
   "source": [
    "hw.iloc[:,::-1] # returns all rows with cols reversed"
   ]
  },
  {
   "cell_type": "code",
   "execution_count": 14,
   "metadata": {},
   "outputs": [
    {
     "output_type": "execute_result",
     "data": {
      "text/plain": [
       "     hw1  hw2\n",
       "001   89   92\n",
       "003   68   78"
      ],
      "text/html": "<div>\n<style scoped>\n    .dataframe tbody tr th:only-of-type {\n        vertical-align: middle;\n    }\n\n    .dataframe tbody tr th {\n        vertical-align: top;\n    }\n\n    .dataframe thead th {\n        text-align: right;\n    }\n</style>\n<table border=\"1\" class=\"dataframe\">\n  <thead>\n    <tr style=\"text-align: right;\">\n      <th></th>\n      <th>hw1</th>\n      <th>hw2</th>\n    </tr>\n  </thead>\n  <tbody>\n    <tr>\n      <th>001</th>\n      <td>89</td>\n      <td>92</td>\n    </tr>\n    <tr>\n      <th>003</th>\n      <td>68</td>\n      <td>78</td>\n    </tr>\n  </tbody>\n</table>\n</div>"
     },
     "metadata": {},
     "execution_count": 14
    }
   ],
   "source": [
    "hw.iloc[[0,2], :] # using fancy indexing returns rows 0 and row 2 with all cols"
   ]
  },
  {
   "source": [
    "## Microquiz\n",
    "2 ways to show the middle two rows of hw"
   ],
   "cell_type": "markdown",
   "metadata": {}
  },
  {
   "cell_type": "code",
   "execution_count": 15,
   "metadata": {},
   "outputs": [
    {
     "output_type": "stream",
     "name": "stdout",
     "text": [
      "     hw1  hw2\n001   89   92\n002   74   90\n003   68   78\n004   94   97\n"
     ]
    }
   ],
   "source": [
    "print(hw)"
   ]
  },
  {
   "cell_type": "code",
   "execution_count": 16,
   "metadata": {},
   "outputs": [
    {
     "output_type": "execute_result",
     "data": {
      "text/plain": [
       "     hw1  hw2\n",
       "002   74   90\n",
       "003   68   78"
      ],
      "text/html": "<div>\n<style scoped>\n    .dataframe tbody tr th:only-of-type {\n        vertical-align: middle;\n    }\n\n    .dataframe tbody tr th {\n        vertical-align: top;\n    }\n\n    .dataframe thead th {\n        text-align: right;\n    }\n</style>\n<table border=\"1\" class=\"dataframe\">\n  <thead>\n    <tr style=\"text-align: right;\">\n      <th></th>\n      <th>hw1</th>\n      <th>hw2</th>\n    </tr>\n  </thead>\n  <tbody>\n    <tr>\n      <th>002</th>\n      <td>74</td>\n      <td>90</td>\n    </tr>\n    <tr>\n      <th>003</th>\n      <td>68</td>\n      <td>78</td>\n    </tr>\n  </tbody>\n</table>\n</div>"
     },
     "metadata": {},
     "execution_count": 16
    }
   ],
   "source": [
    "hw.iloc[[1,2],:]"
   ]
  },
  {
   "cell_type": "code",
   "execution_count": 17,
   "metadata": {},
   "outputs": [
    {
     "output_type": "execute_result",
     "data": {
      "text/plain": [
       "     hw1  hw2\n",
       "002   74   90\n",
       "003   68   78"
      ],
      "text/html": "<div>\n<style scoped>\n    .dataframe tbody tr th:only-of-type {\n        vertical-align: middle;\n    }\n\n    .dataframe tbody tr th {\n        vertical-align: top;\n    }\n\n    .dataframe thead th {\n        text-align: right;\n    }\n</style>\n<table border=\"1\" class=\"dataframe\">\n  <thead>\n    <tr style=\"text-align: right;\">\n      <th></th>\n      <th>hw1</th>\n      <th>hw2</th>\n    </tr>\n  </thead>\n  <tbody>\n    <tr>\n      <th>002</th>\n      <td>74</td>\n      <td>90</td>\n    </tr>\n    <tr>\n      <th>003</th>\n      <td>68</td>\n      <td>78</td>\n    </tr>\n  </tbody>\n</table>\n</div>"
     },
     "metadata": {},
     "execution_count": 17
    }
   ],
   "source": [
    "hw.iloc[1:3,:]\n"
   ]
  },
  {
   "cell_type": "code",
   "execution_count": 18,
   "metadata": {},
   "outputs": [
    {
     "output_type": "execute_result",
     "data": {
      "text/plain": [
       "     hw1  hw2\n",
       "002   74   90\n",
       "003   68   78"
      ],
      "text/html": "<div>\n<style scoped>\n    .dataframe tbody tr th:only-of-type {\n        vertical-align: middle;\n    }\n\n    .dataframe tbody tr th {\n        vertical-align: top;\n    }\n\n    .dataframe thead th {\n        text-align: right;\n    }\n</style>\n<table border=\"1\" class=\"dataframe\">\n  <thead>\n    <tr style=\"text-align: right;\">\n      <th></th>\n      <th>hw1</th>\n      <th>hw2</th>\n    </tr>\n  </thead>\n  <tbody>\n    <tr>\n      <th>002</th>\n      <td>74</td>\n      <td>90</td>\n    </tr>\n    <tr>\n      <th>003</th>\n      <td>68</td>\n      <td>78</td>\n    </tr>\n  </tbody>\n</table>\n</div>"
     },
     "metadata": {},
     "execution_count": 18
    }
   ],
   "source": [
    "hw.iloc[1:3]"
   ]
  },
  {
   "source": [
    "## Dataframe indexing with .loc"
   ],
   "cell_type": "markdown",
   "metadata": {}
  },
  {
   "cell_type": "code",
   "execution_count": 19,
   "metadata": {},
   "outputs": [
    {
     "output_type": "stream",
     "name": "stdout",
     "text": [
      "     hw1  hw2\n001   89   92\n002   74   90\n003   68   78\n004   94   97\n"
     ]
    }
   ],
   "source": [
    "print(hw)"
   ]
  },
  {
   "cell_type": "code",
   "execution_count": 20,
   "metadata": {},
   "outputs": [
    {
     "output_type": "execute_result",
     "data": {
      "text/plain": [
       "92"
      ]
     },
     "metadata": {},
     "execution_count": 20
    }
   ],
   "source": [
    "hw.loc['001', 'hw2'] # using labels"
   ]
  },
  {
   "cell_type": "code",
   "execution_count": 21,
   "metadata": {},
   "outputs": [
    {
     "output_type": "execute_result",
     "data": {
      "text/plain": [
       "hw1    89\n",
       "hw2    92\n",
       "Name: 001, dtype: int64"
      ]
     },
     "metadata": {},
     "execution_count": 21
    }
   ],
   "source": [
    "hw.loc['001',:] # all cols for label 001"
   ]
  },
  {
   "cell_type": "code",
   "execution_count": 22,
   "metadata": {},
   "outputs": [
    {
     "output_type": "execute_result",
     "data": {
      "text/plain": [
       "001    89\n",
       "002    74\n",
       "Name: hw1, dtype: int64"
      ]
     },
     "metadata": {},
     "execution_count": 22
    }
   ],
   "source": [
    "hw.loc['001':'002', 'hw1'] # starts at label 001 and ends at label 002 (inclusive) with col hw1"
   ]
  },
  {
   "source": [
    "## Microquiz\n",
    "Select middle rows with loc"
   ],
   "cell_type": "markdown",
   "metadata": {}
  },
  {
   "cell_type": "code",
   "execution_count": 23,
   "metadata": {},
   "outputs": [
    {
     "output_type": "stream",
     "name": "stdout",
     "text": [
      "     hw1  hw2\n001   89   92\n002   74   90\n003   68   78\n004   94   97\nShort slicing:\n      hw1  hw2\n002   74   90\n003   68   78\nSlicing:\n      hw1  hw2\n002   74   90\n003   68   78\nFancy indexing:\n      hw1  hw2\n002   74   90\n003   68   78\n"
     ]
    }
   ],
   "source": [
    "print(hw)\n",
    "print(\"Short slicing:\\n\",hw.loc['002':'003'])\n",
    "print(\"Slicing:\\n\", hw.loc['002':'003', :])\n",
    "print(\"Fancy indexing:\\n\", hw.loc[['002','003'],:])"
   ]
  },
  {
   "source": [
    "## Dataframe Indexing Dictionary Style"
   ],
   "cell_type": "markdown",
   "metadata": {}
  },
  {
   "cell_type": "code",
   "execution_count": 24,
   "metadata": {},
   "outputs": [
    {
     "output_type": "stream",
     "name": "stdout",
     "text": [
      "     hw1  hw2\n001   89   92\n002   74   90\n003   68   78\n004   94   97\n"
     ]
    }
   ],
   "source": [
    "print(hw)"
   ]
  },
  {
   "source": [
    "Dictionary-style indexing is normally column-based"
   ],
   "cell_type": "markdown",
   "metadata": {}
  },
  {
   "cell_type": "code",
   "execution_count": 25,
   "metadata": {},
   "outputs": [
    {
     "output_type": "execute_result",
     "data": {
      "text/plain": [
       "001    89\n",
       "002    74\n",
       "003    68\n",
       "004    94\n",
       "Name: hw1, dtype: int64"
      ]
     },
     "metadata": {},
     "execution_count": 25
    }
   ],
   "source": [
    "hw['hw1']"
   ]
  },
  {
   "cell_type": "code",
   "execution_count": 26,
   "metadata": {},
   "outputs": [
    {
     "output_type": "execute_result",
     "data": {
      "text/plain": [
       "     hw1  hw2\n",
       "001   89   92\n",
       "002   74   90\n",
       "003   68   78\n",
       "004   94   97"
      ],
      "text/html": "<div>\n<style scoped>\n    .dataframe tbody tr th:only-of-type {\n        vertical-align: middle;\n    }\n\n    .dataframe tbody tr th {\n        vertical-align: top;\n    }\n\n    .dataframe thead th {\n        text-align: right;\n    }\n</style>\n<table border=\"1\" class=\"dataframe\">\n  <thead>\n    <tr style=\"text-align: right;\">\n      <th></th>\n      <th>hw1</th>\n      <th>hw2</th>\n    </tr>\n  </thead>\n  <tbody>\n    <tr>\n      <th>001</th>\n      <td>89</td>\n      <td>92</td>\n    </tr>\n    <tr>\n      <th>002</th>\n      <td>74</td>\n      <td>90</td>\n    </tr>\n    <tr>\n      <th>003</th>\n      <td>68</td>\n      <td>78</td>\n    </tr>\n    <tr>\n      <th>004</th>\n      <td>94</td>\n      <td>97</td>\n    </tr>\n  </tbody>\n</table>\n</div>"
     },
     "metadata": {},
     "execution_count": 26
    }
   ],
   "source": [
    "hw[['hw1','hw2']]"
   ]
  },
  {
   "source": [
    "Slice or bool mask is ROW based"
   ],
   "cell_type": "markdown",
   "metadata": {}
  },
  {
   "cell_type": "code",
   "execution_count": 27,
   "metadata": {},
   "outputs": [
    {
     "output_type": "execute_result",
     "data": {
      "text/plain": [
       "     hw1  hw2\n",
       "002   74   90\n",
       "003   68   78\n",
       "004   94   97"
      ],
      "text/html": "<div>\n<style scoped>\n    .dataframe tbody tr th:only-of-type {\n        vertical-align: middle;\n    }\n\n    .dataframe tbody tr th {\n        vertical-align: top;\n    }\n\n    .dataframe thead th {\n        text-align: right;\n    }\n</style>\n<table border=\"1\" class=\"dataframe\">\n  <thead>\n    <tr style=\"text-align: right;\">\n      <th></th>\n      <th>hw1</th>\n      <th>hw2</th>\n    </tr>\n  </thead>\n  <tbody>\n    <tr>\n      <th>002</th>\n      <td>74</td>\n      <td>90</td>\n    </tr>\n    <tr>\n      <th>003</th>\n      <td>68</td>\n      <td>78</td>\n    </tr>\n    <tr>\n      <th>004</th>\n      <td>94</td>\n      <td>97</td>\n    </tr>\n  </tbody>\n</table>\n</div>"
     },
     "metadata": {},
     "execution_count": 27
    }
   ],
   "source": [
    "hw['002':]"
   ]
  },
  {
   "cell_type": "code",
   "execution_count": 28,
   "metadata": {},
   "outputs": [
    {
     "output_type": "execute_result",
     "data": {
      "text/plain": [
       "     hw1  hw2\n",
       "001   89   92\n",
       "002   74   90"
      ],
      "text/html": "<div>\n<style scoped>\n    .dataframe tbody tr th:only-of-type {\n        vertical-align: middle;\n    }\n\n    .dataframe tbody tr th {\n        vertical-align: top;\n    }\n\n    .dataframe thead th {\n        text-align: right;\n    }\n</style>\n<table border=\"1\" class=\"dataframe\">\n  <thead>\n    <tr style=\"text-align: right;\">\n      <th></th>\n      <th>hw1</th>\n      <th>hw2</th>\n    </tr>\n  </thead>\n  <tbody>\n    <tr>\n      <th>001</th>\n      <td>89</td>\n      <td>92</td>\n    </tr>\n    <tr>\n      <th>002</th>\n      <td>74</td>\n      <td>90</td>\n    </tr>\n  </tbody>\n</table>\n</div>"
     },
     "metadata": {},
     "execution_count": 28
    }
   ],
   "source": [
    "hw[0:2]"
   ]
  },
  {
   "cell_type": "code",
   "execution_count": 29,
   "metadata": {},
   "outputs": [
    {
     "output_type": "execute_result",
     "data": {
      "text/plain": [
       "     hw1  hw2\n",
       "004   94   97"
      ],
      "text/html": "<div>\n<style scoped>\n    .dataframe tbody tr th:only-of-type {\n        vertical-align: middle;\n    }\n\n    .dataframe tbody tr th {\n        vertical-align: top;\n    }\n\n    .dataframe thead th {\n        text-align: right;\n    }\n</style>\n<table border=\"1\" class=\"dataframe\">\n  <thead>\n    <tr style=\"text-align: right;\">\n      <th></th>\n      <th>hw1</th>\n      <th>hw2</th>\n    </tr>\n  </thead>\n  <tbody>\n    <tr>\n      <th>004</th>\n      <td>94</td>\n      <td>97</td>\n    </tr>\n  </tbody>\n</table>\n</div>"
     },
     "metadata": {},
     "execution_count": 29
    }
   ],
   "source": [
    "hw[hw['hw1'] > 90] # Returns all rows where values in hw1 are > 90"
   ]
  },
  {
   "source": [
    "`hw[0] # error use iloc`"
   ],
   "cell_type": "markdown",
   "metadata": {}
  },
  {
   "source": [
    "`hw['002'] # error use loc`"
   ],
   "cell_type": "markdown",
   "metadata": {}
  },
  {
   "source": [
    "## uFuncs on dataframes"
   ],
   "cell_type": "markdown",
   "metadata": {}
  },
  {
   "cell_type": "code",
   "execution_count": 30,
   "metadata": {},
   "outputs": [
    {
     "output_type": "stream",
     "name": "stdout",
     "text": [
      "     hw1  hw2\n001   89   92\n002   74   90\n003   68   78\n004   94   97\n"
     ]
    }
   ],
   "source": [
    "print(hw)"
   ]
  },
  {
   "cell_type": "code",
   "execution_count": 31,
   "metadata": {},
   "outputs": [
    {
     "output_type": "stream",
     "name": "stdout",
     "text": [
      "     hw1\n002   10\n004    5\n"
     ]
    }
   ],
   "source": [
    "hw1_ec = pd.Series({'002':10, '004':5})\n",
    "hw_ec = pd.DataFrame({'hw1': hw1_ec})\n",
    "print(hw_ec)"
   ]
  },
  {
   "cell_type": "code",
   "execution_count": 32,
   "metadata": {},
   "outputs": [
    {
     "output_type": "execute_result",
     "data": {
      "text/plain": [
       "      hw1  hw2\n",
       "001   NaN  NaN\n",
       "002  84.0  NaN\n",
       "003   NaN  NaN\n",
       "004  99.0  NaN"
      ],
      "text/html": "<div>\n<style scoped>\n    .dataframe tbody tr th:only-of-type {\n        vertical-align: middle;\n    }\n\n    .dataframe tbody tr th {\n        vertical-align: top;\n    }\n\n    .dataframe thead th {\n        text-align: right;\n    }\n</style>\n<table border=\"1\" class=\"dataframe\">\n  <thead>\n    <tr style=\"text-align: right;\">\n      <th></th>\n      <th>hw1</th>\n      <th>hw2</th>\n    </tr>\n  </thead>\n  <tbody>\n    <tr>\n      <th>001</th>\n      <td>NaN</td>\n      <td>NaN</td>\n    </tr>\n    <tr>\n      <th>002</th>\n      <td>84.0</td>\n      <td>NaN</td>\n    </tr>\n    <tr>\n      <th>003</th>\n      <td>NaN</td>\n      <td>NaN</td>\n    </tr>\n    <tr>\n      <th>004</th>\n      <td>99.0</td>\n      <td>NaN</td>\n    </tr>\n  </tbody>\n</table>\n</div>"
     },
     "metadata": {},
     "execution_count": 32
    }
   ],
   "source": [
    "hw.add(hw_ec)"
   ]
  },
  {
   "cell_type": "code",
   "execution_count": 33,
   "metadata": {},
   "outputs": [
    {
     "output_type": "execute_result",
     "data": {
      "text/plain": [
       "      hw1   hw2\n",
       "001  89.0  92.0\n",
       "002  84.0  90.0\n",
       "003  68.0  78.0\n",
       "004  99.0  97.0"
      ],
      "text/html": "<div>\n<style scoped>\n    .dataframe tbody tr th:only-of-type {\n        vertical-align: middle;\n    }\n\n    .dataframe tbody tr th {\n        vertical-align: top;\n    }\n\n    .dataframe thead th {\n        text-align: right;\n    }\n</style>\n<table border=\"1\" class=\"dataframe\">\n  <thead>\n    <tr style=\"text-align: right;\">\n      <th></th>\n      <th>hw1</th>\n      <th>hw2</th>\n    </tr>\n  </thead>\n  <tbody>\n    <tr>\n      <th>001</th>\n      <td>89.0</td>\n      <td>92.0</td>\n    </tr>\n    <tr>\n      <th>002</th>\n      <td>84.0</td>\n      <td>90.0</td>\n    </tr>\n    <tr>\n      <th>003</th>\n      <td>68.0</td>\n      <td>78.0</td>\n    </tr>\n    <tr>\n      <th>004</th>\n      <td>99.0</td>\n      <td>97.0</td>\n    </tr>\n  </tbody>\n</table>\n</div>"
     },
     "metadata": {},
     "execution_count": 33
    }
   ],
   "source": [
    "hw.add(hw_ec, fill_value=0) # using a fill value to eliminate the NaN"
   ]
  },
  {
   "source": [
    "## Stacking two dataframes\n",
    "Default concat is verticle"
   ],
   "cell_type": "markdown",
   "metadata": {}
  },
  {
   "cell_type": "code",
   "execution_count": 34,
   "metadata": {},
   "outputs": [
    {
     "output_type": "execute_result",
     "data": {
      "text/plain": [
       "     hw1  hw2\n",
       "001   89   92\n",
       "002   74   90\n",
       "003   68   78\n",
       "004   94   97\n",
       "0     75   92\n",
       "1     82   81"
      ],
      "text/html": "<div>\n<style scoped>\n    .dataframe tbody tr th:only-of-type {\n        vertical-align: middle;\n    }\n\n    .dataframe tbody tr th {\n        vertical-align: top;\n    }\n\n    .dataframe thead th {\n        text-align: right;\n    }\n</style>\n<table border=\"1\" class=\"dataframe\">\n  <thead>\n    <tr style=\"text-align: right;\">\n      <th></th>\n      <th>hw1</th>\n      <th>hw2</th>\n    </tr>\n  </thead>\n  <tbody>\n    <tr>\n      <th>001</th>\n      <td>89</td>\n      <td>92</td>\n    </tr>\n    <tr>\n      <th>002</th>\n      <td>74</td>\n      <td>90</td>\n    </tr>\n    <tr>\n      <th>003</th>\n      <td>68</td>\n      <td>78</td>\n    </tr>\n    <tr>\n      <th>004</th>\n      <td>94</td>\n      <td>97</td>\n    </tr>\n    <tr>\n      <th>0</th>\n      <td>75</td>\n      <td>92</td>\n    </tr>\n    <tr>\n      <th>1</th>\n      <td>82</td>\n      <td>81</td>\n    </tr>\n  </tbody>\n</table>\n</div>"
     },
     "metadata": {},
     "execution_count": 34
    }
   ],
   "source": [
    "hwa  = pd.DataFrame({'hw1':[75,82], 'hw2':[92,81]}) # add axis=1 for horizontal concat\n",
    "pd.concat([hw,hwa]) # ignore_index = True to generate new indexes"
   ]
  },
  {
   "cell_type": "code",
   "execution_count": 35,
   "metadata": {},
   "outputs": [
    {
     "output_type": "execute_result",
     "data": {
      "text/plain": [
       "   hw1  hw2\n",
       "0   89   92\n",
       "1   74   90\n",
       "2   68   78\n",
       "3   94   97\n",
       "4   75   92\n",
       "5   82   81"
      ],
      "text/html": "<div>\n<style scoped>\n    .dataframe tbody tr th:only-of-type {\n        vertical-align: middle;\n    }\n\n    .dataframe tbody tr th {\n        vertical-align: top;\n    }\n\n    .dataframe thead th {\n        text-align: right;\n    }\n</style>\n<table border=\"1\" class=\"dataframe\">\n  <thead>\n    <tr style=\"text-align: right;\">\n      <th></th>\n      <th>hw1</th>\n      <th>hw2</th>\n    </tr>\n  </thead>\n  <tbody>\n    <tr>\n      <th>0</th>\n      <td>89</td>\n      <td>92</td>\n    </tr>\n    <tr>\n      <th>1</th>\n      <td>74</td>\n      <td>90</td>\n    </tr>\n    <tr>\n      <th>2</th>\n      <td>68</td>\n      <td>78</td>\n    </tr>\n    <tr>\n      <th>3</th>\n      <td>94</td>\n      <td>97</td>\n    </tr>\n    <tr>\n      <th>4</th>\n      <td>75</td>\n      <td>92</td>\n    </tr>\n    <tr>\n      <th>5</th>\n      <td>82</td>\n      <td>81</td>\n    </tr>\n  </tbody>\n</table>\n</div>"
     },
     "metadata": {},
     "execution_count": 35
    }
   ],
   "source": [
    "pd.concat([hw,hwa], ignore_index=True) # ignore_index = True to generate new indexes\n"
   ]
  },
  {
   "source": [
    "## Advance database-style joins"
   ],
   "cell_type": "markdown",
   "metadata": {}
  },
  {
   "cell_type": "code",
   "execution_count": 36,
   "metadata": {},
   "outputs": [
    {
     "output_type": "stream",
     "name": "stdout",
     "text": [
      "     hw1  hw2\n001   89   92\n002   74   90\n003   68   78\n004   94   97\n"
     ]
    }
   ],
   "source": [
    "print(hw)"
   ]
  },
  {
   "cell_type": "code",
   "execution_count": 37,
   "metadata": {},
   "outputs": [
    {
     "output_type": "stream",
     "name": "stdout",
     "text": [
      "001    Pat\n002    Ana\nName: Name, dtype: object\n"
     ]
    }
   ],
   "source": [
    "snames = pd.Series(['Pat','Ana'], index=['001','002'], name='Name')\n",
    "print(snames)"
   ]
  },
  {
   "source": [
    "Outer merge is similar to a UNION </br>\n",
    "Innter merge is produces and INTERSECTION </br>\n",
    "Merge is more flexible than join </br>"
   ],
   "cell_type": "markdown",
   "metadata": {}
  },
  {
   "cell_type": "code",
   "execution_count": 38,
   "metadata": {},
   "outputs": [
    {
     "output_type": "execute_result",
     "data": {
      "text/plain": [
       "     hw1  hw2 Name\n",
       "001   89   92  Pat\n",
       "002   74   90  Ana\n",
       "003   68   78  NaN\n",
       "004   94   97  NaN"
      ],
      "text/html": "<div>\n<style scoped>\n    .dataframe tbody tr th:only-of-type {\n        vertical-align: middle;\n    }\n\n    .dataframe tbody tr th {\n        vertical-align: top;\n    }\n\n    .dataframe thead th {\n        text-align: right;\n    }\n</style>\n<table border=\"1\" class=\"dataframe\">\n  <thead>\n    <tr style=\"text-align: right;\">\n      <th></th>\n      <th>hw1</th>\n      <th>hw2</th>\n      <th>Name</th>\n    </tr>\n  </thead>\n  <tbody>\n    <tr>\n      <th>001</th>\n      <td>89</td>\n      <td>92</td>\n      <td>Pat</td>\n    </tr>\n    <tr>\n      <th>002</th>\n      <td>74</td>\n      <td>90</td>\n      <td>Ana</td>\n    </tr>\n    <tr>\n      <th>003</th>\n      <td>68</td>\n      <td>78</td>\n      <td>NaN</td>\n    </tr>\n    <tr>\n      <th>004</th>\n      <td>94</td>\n      <td>97</td>\n      <td>NaN</td>\n    </tr>\n  </tbody>\n</table>\n</div>"
     },
     "metadata": {},
     "execution_count": 38
    }
   ],
   "source": [
    "pd.merge(hw,snames,how='outer', left_index=True, right_index=True)"
   ]
  },
  {
   "cell_type": "code",
   "execution_count": 39,
   "metadata": {},
   "outputs": [
    {
     "output_type": "execute_result",
     "data": {
      "text/plain": [
       "     hw1  hw2 Name\n",
       "001   89   92  Pat\n",
       "002   74   90  Ana\n",
       "003   68   78  NaN\n",
       "004   94   97  NaN"
      ],
      "text/html": "<div>\n<style scoped>\n    .dataframe tbody tr th:only-of-type {\n        vertical-align: middle;\n    }\n\n    .dataframe tbody tr th {\n        vertical-align: top;\n    }\n\n    .dataframe thead th {\n        text-align: right;\n    }\n</style>\n<table border=\"1\" class=\"dataframe\">\n  <thead>\n    <tr style=\"text-align: right;\">\n      <th></th>\n      <th>hw1</th>\n      <th>hw2</th>\n      <th>Name</th>\n    </tr>\n  </thead>\n  <tbody>\n    <tr>\n      <th>001</th>\n      <td>89</td>\n      <td>92</td>\n      <td>Pat</td>\n    </tr>\n    <tr>\n      <th>002</th>\n      <td>74</td>\n      <td>90</td>\n      <td>Ana</td>\n    </tr>\n    <tr>\n      <th>003</th>\n      <td>68</td>\n      <td>78</td>\n      <td>NaN</td>\n    </tr>\n    <tr>\n      <th>004</th>\n      <td>94</td>\n      <td>97</td>\n      <td>NaN</td>\n    </tr>\n  </tbody>\n</table>\n</div>"
     },
     "metadata": {},
     "execution_count": 39
    }
   ],
   "source": [
    "hw.join(snames)"
   ]
  },
  {
   "cell_type": "code",
   "execution_count": 40,
   "metadata": {},
   "outputs": [
    {
     "output_type": "execute_result",
     "data": {
      "text/plain": [
       "     hw1  hw2 Name\n",
       "001   89   92  Pat\n",
       "002   74   90  Ana"
      ],
      "text/html": "<div>\n<style scoped>\n    .dataframe tbody tr th:only-of-type {\n        vertical-align: middle;\n    }\n\n    .dataframe tbody tr th {\n        vertical-align: top;\n    }\n\n    .dataframe thead th {\n        text-align: right;\n    }\n</style>\n<table border=\"1\" class=\"dataframe\">\n  <thead>\n    <tr style=\"text-align: right;\">\n      <th></th>\n      <th>hw1</th>\n      <th>hw2</th>\n      <th>Name</th>\n    </tr>\n  </thead>\n  <tbody>\n    <tr>\n      <th>001</th>\n      <td>89</td>\n      <td>92</td>\n      <td>Pat</td>\n    </tr>\n    <tr>\n      <th>002</th>\n      <td>74</td>\n      <td>90</td>\n      <td>Ana</td>\n    </tr>\n  </tbody>\n</table>\n</div>"
     },
     "metadata": {},
     "execution_count": 40
    }
   ],
   "source": [
    "pd.merge(hw,snames, left_index=True, right_index=True)"
   ]
  },
  {
   "cell_type": "code",
   "execution_count": null,
   "metadata": {},
   "outputs": [],
   "source": []
  }
 ]
}