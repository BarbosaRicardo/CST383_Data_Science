{
 "metadata": {
  "language_info": {
   "codemirror_mode": {
    "name": "ipython",
    "version": 3
   },
   "file_extension": ".py",
   "mimetype": "text/x-python",
   "name": "python",
   "nbconvert_exporter": "python",
   "pygments_lexer": "ipython3",
   "version": "3.8.5-final"
  },
  "orig_nbformat": 2,
  "kernelspec": {
   "name": "python3",
   "display_name": "Python 3.8.5 64-bit (conda)",
   "metadata": {
    "interpreter": {
     "hash": "f539b26f394aad12450f3c246ed3d92d09f4c4ed1993d39994d675a18ba6eb8e"
    }
   }
  }
 },
 "nbformat": 4,
 "nbformat_minor": 2,
 "cells": [
  {
   "source": [
    "1.\tWe defined the Gini index value for a node in a classification tree as\n",
    "$$2 p (1-p)$$\n",
    "Where p is the estimated probability of either of the two classes.  For example, if a node has 30 training instances of class A, and 50 training instances of class B, then the estimated probability of class A is $$30/(30 + 50)$$  What is the Gini index value for this node?\n",
    "\n"
   ],
   "cell_type": "markdown",
   "metadata": {}
  },
  {
   "source": [
    "2.\tCreate a new Python file.  Fill in the code below to create a function that gives the Gini value for a node in a binary classification tree given values for the number of instances of each class.  class_counts is a list of length two.   "
   ],
   "cell_type": "markdown",
   "metadata": {}
  },
  {
   "cell_type": "code",
   "execution_count": 2,
   "metadata": {},
   "outputs": [
    {
     "output_type": "error",
     "ename": "SyntaxError",
     "evalue": "invalid syntax (<ipython-input-2-ba7a1272172c>, line 1)",
     "traceback": [
      "\u001b[1;36m  File \u001b[1;32m\"<ipython-input-2-ba7a1272172c>\"\u001b[1;36m, line \u001b[1;32m1\u001b[0m\n\u001b[1;33m    def gini(class counts):\u001b[0m\n\u001b[1;37m             ^\u001b[0m\n\u001b[1;31mSyntaxError\u001b[0m\u001b[1;31m:\u001b[0m invalid syntax\n"
     ]
    }
   ],
   "source": [
    "def gini(class counts):\n",
    "    ''' return the Gini value for a node in a binary classif. tree '''\n",
    "    # your code here (don't forget the return statement)\n",
    "    pass"
   ]
  },
  {
   "source": [
    "3.\tTest your function.  What is gini([30, 50])? gini([10, 10])?  What is gini([20, 0])?  What is gini([100, 0])? "
   ],
   "cell_type": "markdown",
   "metadata": {}
  },
  {
   "cell_type": "code",
   "execution_count": null,
   "metadata": {},
   "outputs": [],
   "source": []
  },
  {
   "source": [
    "4.\tAdd the following code at the top of your file to read and preprocess the data."
   ],
   "cell_type": "markdown",
   "metadata": {}
  },
  {
   "cell_type": "code",
   "execution_count": null,
   "metadata": {},
   "outputs": [],
   "source": [
    "df = pd.read_csv(\"https://raw.githubusercontent.com/grbruns/cst383/master/heart.csv\")\n",
    "df['output'] = df['output'] - 1\n",
    "\n",
    "df = df[['age', 'maxhr', 'restbp', 'output']]\n",
    "sns.scatterplot(x='age', y='maxhr', hue='output', data=df)\n"
   ]
  },
  {
   "source": [
    "5.\tRun the code and look at the plot.  If we were going to build a classification tree, and split first on 'age', what do you think a good age value to split on would be?"
   ],
   "cell_type": "markdown",
   "metadata": {}
  },
  {
   "cell_type": "code",
   "execution_count": null,
   "metadata": {},
   "outputs": [],
   "source": []
  },
  {
   "source": [
    "6.\tCompute the Gini index for df as a whole.  For this you just need the number of rows with output = 0 and the number of rows with output = 1."
   ],
   "cell_type": "markdown",
   "metadata": {}
  },
  {
   "cell_type": "code",
   "execution_count": null,
   "metadata": {},
   "outputs": [],
   "source": []
  },
  {
   "source": [
    "7.\tNow consider a split on age < 50.  Write code to compute the Gini index for the case of of age < 50 and the Gini index for the case of age >= 50.  For the case of age < 50, get the rows of df where age < 50, then count the number of rows with output = 0 and output = 1.  "
   ],
   "cell_type": "markdown",
   "metadata": {}
  },
  {
   "cell_type": "code",
   "execution_count": null,
   "metadata": {},
   "outputs": [],
   "source": []
  },
  {
   "source": [
    "8.\tNow compute the overall Gini index value for the split on age < 50.  First you need to compute the fraction of nodes associated with age < 50 (call it fraction_lo) and the fraction of nodes associated with age >= 50 (call it fraction_hi).  Then get the Gini value for the split like this (in pseudo code):  \n",
    "```gini_split = gini_lo * fraction_lo + gini_hi * fraction_hi```  \n",
    "  \n",
    "The split is useful if the Gini value for the split is lower than the GIni value for the root."
   ],
   "cell_type": "markdown",
   "metadata": {}
  },
  {
   "cell_type": "code",
   "execution_count": null,
   "metadata": {},
   "outputs": [],
   "source": []
  },
  {
   "source": [
    "9.\tIs a split on age < 40 better than a split on age < 50?"
   ],
   "cell_type": "markdown",
   "metadata": {}
  },
  {
   "cell_type": "code",
   "execution_count": null,
   "metadata": {},
   "outputs": [],
   "source": []
  },
  {
   "source": [
    "10.\tCompute the Gini value for all age splits where age ranges from 20 to 80.  Then plot the Gini split value for all the ages (age on x axis, Gini value on y axis).  What is the best age value for a split on age?"
   ],
   "cell_type": "markdown",
   "metadata": {}
  },
  {
   "cell_type": "code",
   "execution_count": null,
   "metadata": {},
   "outputs": [],
   "source": []
  },
  {
   "source": [
    "11.\tIf you still have time, do the same thing for features 'maxhr' and 'restbp'.  What is the best feature and best split?"
   ],
   "cell_type": "markdown",
   "metadata": {}
  },
  {
   "cell_type": "code",
   "execution_count": null,
   "metadata": {},
   "outputs": [],
   "source": []
  }
 ]
}