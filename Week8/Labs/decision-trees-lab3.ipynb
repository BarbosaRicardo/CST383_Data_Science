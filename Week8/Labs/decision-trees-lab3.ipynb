{
 "cells": [
  {
   "cell_type": "markdown",
   "metadata": {},
   "source": [
    " # Lab: Decision trees, part 3\n",
    " With Scikit-Learn, the quality of your decision tree will depend a lot on how you select hyperparameters.  The purpose of this lab is to help you get familiar with the hyperparameters of DecisionTreeRegressor.\n",
    " The lab is quite open-ended.  I want you to predict CPU performance using a regression tree.  First create a file with this starter code shown on the next page.\n",
    " Next, do the following:\n",
    " * pick some predictors, and create training and test sets\n",
    " * create a DecisionTreeRegressor, and set some of the hyperparameters listed in lecture:\n",
    "     * min_samples_split, max_depth, min_samples_leaf, max_leaf_nodes, min_impurity_decrease\n",
    " * train your tree and see what it looks like\n",
    " * compute the RMSE for your model on the test data  (\"test RMSE\")\n",
    " Do this a bunch of times to see how the hyperparameters affect the appearance of your tree and your test RMSE.\n",
    " Be careful not to create a giant tree.  Trying to plot a giant tree can bring your machine to a standstill.\n",
    " If you have time, try doing a grid search with cross validation to find the best hyperparameter settings.\n"
   ]
  },
  {
   "cell_type": "code",
   "execution_count": 1,
   "metadata": {},
   "outputs": [],
   "source": [
    "import numpy as np\n",
    "import pandas as pd\n",
    "from matplotlib import rcParams\n",
    "from sklearn.tree import DecisionTreeRegressor, export_graphviz\n",
    "from sklearn.model_selection import train_test_split\n",
    "import seaborn as sns\n",
    "import graphviz "
   ]
  },
  {
   "cell_type": "code",
   "execution_count": 2,
   "metadata": {},
   "outputs": [],
   "source": [
    "\n",
    "# switch to seaborn default stylistic parameters\n",
    "sns.set()\n",
    "# larger plot fonts\n",
    "sns.set_context('talk')\n",
    "# change default plot size\n",
    "rcParams['figure.figsize'] = 10,8"
   ]
  },
  {
   "cell_type": "code",
   "execution_count": 3,
   "metadata": {},
   "outputs": [],
   "source": [
    "\n",
    "# read the cpu data\n",
    "df = pd.read_csv(\"https://raw.githubusercontent.com/grbruns/cst383/master/machine.csv\")\n",
    "df.index = df['vendor']+' '+df['model']\n",
    "df.drop(['vendor', 'model'], axis=1, inplace=True)\n",
    "df['cs'] = np.round(1e3/df['myct'], 2)    # clock speed in MHz"
   ]
  },
  {
   "cell_type": "code",
   "execution_count": 4,
   "metadata": {},
   "outputs": [
    {
     "name": "stdout",
     "output_type": "stream",
     "text": [
      "<class 'pandas.core.frame.DataFrame'>\n",
      "Index: 209 entries, adviser 32/60 to wang vs-90\n",
      "Data columns (total 9 columns):\n",
      " #   Column  Non-Null Count  Dtype  \n",
      "---  ------  --------------  -----  \n",
      " 0   myct    209 non-null    int64  \n",
      " 1   mmin    209 non-null    int64  \n",
      " 2   mmax    209 non-null    int64  \n",
      " 3   cach    209 non-null    int64  \n",
      " 4   chmin   209 non-null    int64  \n",
      " 5   chmax   209 non-null    int64  \n",
      " 6   prp     209 non-null    int64  \n",
      " 7   erp     209 non-null    int64  \n",
      " 8   cs      209 non-null    float64\n",
      "dtypes: float64(1), int64(8)\n",
      "memory usage: 16.3+ KB\n"
     ]
    }
   ],
   "source": [
    "df.info()"
   ]
  },
  {
   "cell_type": "code",
   "execution_count": 5,
   "metadata": {},
   "outputs": [
    {
     "data": {
      "image/png": "[encoded data removed]",
      "text/plain": [
       "<Figure size 720x576 with 2 Axes>"
      ]
     },
     "metadata": {},
     "output_type": "display_data"
    }
   ],
   "source": [
    "sns.heatmap(df.corr());"
   ]
  },
  {
   "cell_type": "code",
   "execution_count": 6,
   "metadata": {},
   "outputs": [
    {
     "data": {
      "text/plain": [
       "DecisionTreeRegressor(max_depth=3, min_samples_leaf=9)"
      ]
     },
     "execution_count": 6,
     "metadata": {},
     "output_type": "execute_result"
    }
   ],
   "source": [
    "\n",
    "# get ready for Scikit-Learn\n",
    "predictors = ['mmin', 'mmax']      # choose predictors as you like\n",
    "target = 'prp'\n",
    "X = df[predictors].values\n",
    "y = df[target].values\n",
    "\n",
    "# test/train split\n",
    "X_train, X_test, y_train, y_test = train_test_split(X, y, test_size=0.30, random_state=0)\n",
    "\n",
    "# train the model\n",
    "'''I tuned the hyper parameters and I was able to acheive a RMSE of approx 59\n",
    "   with the predictors I chose to have the most relevance. '''\n",
    "reg = DecisionTreeRegressor(max_depth=3, min_samples_leaf=9)\n",
    "reg.fit(X_train, y_train)"
   ]
  },
  {
   "cell_type": "code",
   "execution_count": 7,
   "metadata": {},
   "outputs": [
    {
     "data": {
      "image/svg+xml": [
       "<?xml version=\"1.0\" encoding=\"UTF-8\" standalone=\"no\"?>\r\n",
       "<!DOCTYPE svg PUBLIC \"-//W3C//DTD SVG 1.1//EN\"\r\n",
       " \"http://www.w3.org/Graphics/SVG/1.1/DTD/svg11.dtd\">\r\n",
       "<!-- Generated by graphviz version 2.46.1 (20210213.1702)\r\n",
       " -->\r\n",
       "<!-- Title: Tree Pages: 1 -->\r\n",
       "<svg width=\"568pt\" height=\"373pt\"\r\n",
       " viewBox=\"0.00 0.00 568.00 373.00\" xmlns=\"http://www.w3.org/2000/svg\" xmlns:xlink=\"http://www.w3.org/1999/xlink\">\r\n",
       "<g id=\"graph0\" class=\"graph\" transform=\"scale(1 1) rotate(0) translate(4 369)\">\r\n",
       "<title>Tree</title>\r\n",
       "<polygon fill=\"white\" stroke=\"transparent\" points=\"-4,4 -4,-369 564,-369 564,4 -4,4\"/>\r\n",
       "<!-- 0 -->\r\n",
       "<g id=\"node1\" class=\"node\">\r\n",
       "<title>0</title>\r\n",
       "<path fill=\"#fae6d8\" stroke=\"black\" d=\"M412,-365C412,-365 300,-365 300,-365 294,-365 288,-359 288,-353 288,-353 288,-309 288,-309 288,-303 294,-297 300,-297 300,-297 412,-297 412,-297 418,-297 424,-303 424,-309 424,-309 424,-353 424,-353 424,-359 418,-365 412,-365\"/>\r\n",
       "<text text-anchor=\"middle\" x=\"356\" y=\"-349.8\" font-family=\"Helvetica,sans-Serif\" font-size=\"14.00\">mmax &lt;= 28000.0</text>\r\n",
       "<text text-anchor=\"middle\" x=\"356\" y=\"-334.8\" font-family=\"Helvetica,sans-Serif\" font-size=\"14.00\">mse = 29246.55</text>\r\n",
       "<text text-anchor=\"middle\" x=\"356\" y=\"-319.8\" font-family=\"Helvetica,sans-Serif\" font-size=\"14.00\">samples = 100.0%</text>\r\n",
       "<text text-anchor=\"middle\" x=\"356\" y=\"-304.8\" font-family=\"Helvetica,sans-Serif\" font-size=\"14.00\">value = 107.01</text>\r\n",
       "</g>\r\n",
       "<!-- 1 -->\r\n",
       "<g id=\"node2\" class=\"node\">\r\n",
       "<title>1</title>\r\n",
       "<path fill=\"#fdf5f0\" stroke=\"black\" d=\"M336,-261C336,-261 228,-261 228,-261 222,-261 216,-255 216,-249 216,-249 216,-205 216,-205 216,-199 222,-193 228,-193 228,-193 336,-193 336,-193 342,-193 348,-199 348,-205 348,-205 348,-249 348,-249 348,-255 342,-261 336,-261\"/>\r\n",
       "<text text-anchor=\"middle\" x=\"282\" y=\"-245.8\" font-family=\"Helvetica,sans-Serif\" font-size=\"14.00\">mmax &lt;= 14000.0</text>\r\n",
       "<text text-anchor=\"middle\" x=\"282\" y=\"-230.8\" font-family=\"Helvetica,sans-Serif\" font-size=\"14.00\">mse = 3681.52</text>\r\n",
       "<text text-anchor=\"middle\" x=\"282\" y=\"-215.8\" font-family=\"Helvetica,sans-Serif\" font-size=\"14.00\">samples = 87.0%</text>\r\n",
       "<text text-anchor=\"middle\" x=\"282\" y=\"-200.8\" font-family=\"Helvetica,sans-Serif\" font-size=\"14.00\">value = 61.45</text>\r\n",
       "</g>\r\n",
       "<!-- 0&#45;&gt;1 -->\r\n",
       "<g id=\"edge1\" class=\"edge\">\r\n",
       "<title>0&#45;&gt;1</title>\r\n",
       "<path fill=\"none\" stroke=\"black\" d=\"M331.97,-296.88C325.64,-288.15 318.73,-278.62 312.12,-269.51\"/>\r\n",
       "<polygon fill=\"black\" stroke=\"black\" points=\"314.86,-267.34 306.16,-261.3 309.2,-271.45 314.86,-267.34\"/>\r\n",
       "<text text-anchor=\"middle\" x=\"302.23\" y=\"-282.29\" font-family=\"Helvetica,sans-Serif\" font-size=\"14.00\">True</text>\r\n",
       "</g>\r\n",
       "<!-- 8 -->\r\n",
       "<g id=\"node9\" class=\"node\">\r\n",
       "<title>8</title>\r\n",
       "<path fill=\"#e58139\" stroke=\"black\" d=\"M482,-253.5C482,-253.5 378,-253.5 378,-253.5 372,-253.5 366,-247.5 366,-241.5 366,-241.5 366,-212.5 366,-212.5 366,-206.5 372,-200.5 378,-200.5 378,-200.5 482,-200.5 482,-200.5 488,-200.5 494,-206.5 494,-212.5 494,-212.5 494,-241.5 494,-241.5 494,-247.5 488,-253.5 482,-253.5\"/>\r\n",
       "<text text-anchor=\"middle\" x=\"430\" y=\"-238.3\" font-family=\"Helvetica,sans-Serif\" font-size=\"14.00\">mse = 93523.2</text>\r\n",
       "<text text-anchor=\"middle\" x=\"430\" y=\"-223.3\" font-family=\"Helvetica,sans-Serif\" font-size=\"14.00\">samples = 13.0%</text>\r\n",
       "<text text-anchor=\"middle\" x=\"430\" y=\"-208.3\" font-family=\"Helvetica,sans-Serif\" font-size=\"14.00\">value = 411.53</text>\r\n",
       "</g>\r\n",
       "<!-- 0&#45;&gt;8 -->\r\n",
       "<g id=\"edge8\" class=\"edge\">\r\n",
       "<title>0&#45;&gt;8</title>\r\n",
       "<path fill=\"none\" stroke=\"black\" d=\"M380.03,-296.88C388.16,-285.67 397.26,-273.13 405.44,-261.85\"/>\r\n",
       "<polygon fill=\"black\" stroke=\"black\" points=\"408.45,-263.67 411.49,-253.52 402.78,-259.56 408.45,-263.67\"/>\r\n",
       "<text text-anchor=\"middle\" x=\"415.41\" y=\"-274.51\" font-family=\"Helvetica,sans-Serif\" font-size=\"14.00\">False</text>\r\n",
       "</g>\r\n",
       "<!-- 2 -->\r\n",
       "<g id=\"node3\" class=\"node\">\r\n",
       "<title>2</title>\r\n",
       "<path fill=\"#fefbf9\" stroke=\"black\" d=\"M261,-157C261,-157 157,-157 157,-157 151,-157 145,-151 145,-145 145,-145 145,-101 145,-101 145,-95 151,-89 157,-89 157,-89 261,-89 261,-89 267,-89 273,-95 273,-101 273,-101 273,-145 273,-145 273,-151 267,-157 261,-157\"/>\r\n",
       "<text text-anchor=\"middle\" x=\"209\" y=\"-141.8\" font-family=\"Helvetica,sans-Serif\" font-size=\"14.00\">mmin &lt;= 1155.0</text>\r\n",
       "<text text-anchor=\"middle\" x=\"209\" y=\"-126.8\" font-family=\"Helvetica,sans-Serif\" font-size=\"14.00\">mse = 2378.21</text>\r\n",
       "<text text-anchor=\"middle\" x=\"209\" y=\"-111.8\" font-family=\"Helvetica,sans-Serif\" font-size=\"14.00\">samples = 67.8%</text>\r\n",
       "<text text-anchor=\"middle\" x=\"209\" y=\"-96.8\" font-family=\"Helvetica,sans-Serif\" font-size=\"14.00\">value = 44.74</text>\r\n",
       "</g>\r\n",
       "<!-- 1&#45;&gt;2 -->\r\n",
       "<g id=\"edge2\" class=\"edge\">\r\n",
       "<title>1&#45;&gt;2</title>\r\n",
       "<path fill=\"none\" stroke=\"black\" d=\"M258.3,-192.88C252.05,-184.15 245.23,-174.62 238.71,-165.51\"/>\r\n",
       "<polygon fill=\"black\" stroke=\"black\" points=\"241.5,-163.39 232.83,-157.3 235.81,-167.47 241.5,-163.39\"/>\r\n",
       "</g>\r\n",
       "<!-- 5 -->\r\n",
       "<g id=\"node6\" class=\"node\">\r\n",
       "<title>5</title>\r\n",
       "<path fill=\"#f9e2d1\" stroke=\"black\" d=\"M407,-157C407,-157 303,-157 303,-157 297,-157 291,-151 291,-145 291,-145 291,-101 291,-101 291,-95 297,-89 303,-89 303,-89 407,-89 407,-89 413,-89 419,-95 419,-101 419,-101 419,-145 419,-145 419,-151 413,-157 407,-157\"/>\r\n",
       "<text text-anchor=\"middle\" x=\"355\" y=\"-141.8\" font-family=\"Helvetica,sans-Serif\" font-size=\"14.00\">mmin &lt;= 3000.0</text>\r\n",
       "<text text-anchor=\"middle\" x=\"355\" y=\"-126.8\" font-family=\"Helvetica,sans-Serif\" font-size=\"14.00\">mse = 3810.96</text>\r\n",
       "<text text-anchor=\"middle\" x=\"355\" y=\"-111.8\" font-family=\"Helvetica,sans-Serif\" font-size=\"14.00\">samples = 19.2%</text>\r\n",
       "<text text-anchor=\"middle\" x=\"355\" y=\"-96.8\" font-family=\"Helvetica,sans-Serif\" font-size=\"14.00\">value = 120.54</text>\r\n",
       "</g>\r\n",
       "<!-- 1&#45;&gt;5 -->\r\n",
       "<g id=\"edge5\" class=\"edge\">\r\n",
       "<title>1&#45;&gt;5</title>\r\n",
       "<path fill=\"none\" stroke=\"black\" d=\"M305.7,-192.88C311.95,-184.15 318.77,-174.62 325.29,-165.51\"/>\r\n",
       "<polygon fill=\"black\" stroke=\"black\" points=\"328.19,-167.47 331.17,-157.3 322.5,-163.39 328.19,-167.47\"/>\r\n",
       "</g>\r\n",
       "<!-- 3 -->\r\n",
       "<g id=\"node4\" class=\"node\">\r\n",
       "<title>3</title>\r\n",
       "<path fill=\"#ffffff\" stroke=\"black\" d=\"M116,-53C116,-53 12,-53 12,-53 6,-53 0,-47 0,-41 0,-41 0,-12 0,-12 0,-6 6,0 12,0 12,0 116,0 116,0 122,0 128,-6 128,-12 128,-12 128,-41 128,-41 128,-47 122,-53 116,-53\"/>\r\n",
       "<text text-anchor=\"middle\" x=\"64\" y=\"-37.8\" font-family=\"Helvetica,sans-Serif\" font-size=\"14.00\">mse = 753.16</text>\r\n",
       "<text text-anchor=\"middle\" x=\"64\" y=\"-22.8\" font-family=\"Helvetica,sans-Serif\" font-size=\"14.00\">samples = 43.2%</text>\r\n",
       "<text text-anchor=\"middle\" x=\"64\" y=\"-7.8\" font-family=\"Helvetica,sans-Serif\" font-size=\"14.00\">value = 32.78</text>\r\n",
       "</g>\r\n",
       "<!-- 2&#45;&gt;3 -->\r\n",
       "<g id=\"edge3\" class=\"edge\">\r\n",
       "<title>2&#45;&gt;3</title>\r\n",
       "<path fill=\"none\" stroke=\"black\" d=\"M158.29,-88.95C143.27,-79.16 126.87,-68.48 112.03,-58.8\"/>\r\n",
       "<polygon fill=\"black\" stroke=\"black\" points=\"113.78,-55.76 103.49,-53.24 109.96,-61.63 113.78,-55.76\"/>\r\n",
       "</g>\r\n",
       "<!-- 4 -->\r\n",
       "<g id=\"node5\" class=\"node\">\r\n",
       "<title>4</title>\r\n",
       "<path fill=\"#fdf4ee\" stroke=\"black\" d=\"M262,-53C262,-53 158,-53 158,-53 152,-53 146,-47 146,-41 146,-41 146,-12 146,-12 146,-6 152,0 158,0 158,0 262,0 262,0 268,0 274,-6 274,-12 274,-12 274,-41 274,-41 274,-47 268,-53 262,-53\"/>\r\n",
       "<text text-anchor=\"middle\" x=\"210\" y=\"-37.8\" font-family=\"Helvetica,sans-Serif\" font-size=\"14.00\">mse = 4533.72</text>\r\n",
       "<text text-anchor=\"middle\" x=\"210\" y=\"-22.8\" font-family=\"Helvetica,sans-Serif\" font-size=\"14.00\">samples = 24.7%</text>\r\n",
       "<text text-anchor=\"middle\" x=\"210\" y=\"-7.8\" font-family=\"Helvetica,sans-Serif\" font-size=\"14.00\">value = 65.67</text>\r\n",
       "</g>\r\n",
       "<!-- 2&#45;&gt;4 -->\r\n",
       "<g id=\"edge4\" class=\"edge\">\r\n",
       "<title>2&#45;&gt;4</title>\r\n",
       "<path fill=\"none\" stroke=\"black\" d=\"M209.35,-88.95C209.44,-80.72 209.53,-71.85 209.62,-63.48\"/>\r\n",
       "<polygon fill=\"black\" stroke=\"black\" points=\"213.12,-63.27 209.73,-53.24 206.12,-63.2 213.12,-63.27\"/>\r\n",
       "</g>\r\n",
       "<!-- 6 -->\r\n",
       "<g id=\"node7\" class=\"node\">\r\n",
       "<title>6</title>\r\n",
       "<path fill=\"#fbede2\" stroke=\"black\" d=\"M401.5,-53C401.5,-53 306.5,-53 306.5,-53 300.5,-53 294.5,-47 294.5,-41 294.5,-41 294.5,-12 294.5,-12 294.5,-6 300.5,0 306.5,0 306.5,0 401.5,0 401.5,0 407.5,0 413.5,-6 413.5,-12 413.5,-12 413.5,-41 413.5,-41 413.5,-47 407.5,-53 401.5,-53\"/>\r\n",
       "<text text-anchor=\"middle\" x=\"354\" y=\"-37.8\" font-family=\"Helvetica,sans-Serif\" font-size=\"14.00\">mse = 4574.67</text>\r\n",
       "<text text-anchor=\"middle\" x=\"354\" y=\"-22.8\" font-family=\"Helvetica,sans-Serif\" font-size=\"14.00\">samples = 6.2%</text>\r\n",
       "<text text-anchor=\"middle\" x=\"354\" y=\"-7.8\" font-family=\"Helvetica,sans-Serif\" font-size=\"14.00\">value = 87.67</text>\r\n",
       "</g>\r\n",
       "<!-- 5&#45;&gt;6 -->\r\n",
       "<g id=\"edge6\" class=\"edge\">\r\n",
       "<title>5&#45;&gt;6</title>\r\n",
       "<path fill=\"none\" stroke=\"black\" d=\"M354.65,-88.95C354.56,-80.72 354.47,-71.85 354.38,-63.48\"/>\r\n",
       "<polygon fill=\"black\" stroke=\"black\" points=\"357.88,-63.2 354.27,-53.24 350.88,-63.27 357.88,-63.2\"/>\r\n",
       "</g>\r\n",
       "<!-- 7 -->\r\n",
       "<g id=\"node8\" class=\"node\">\r\n",
       "<title>7</title>\r\n",
       "<path fill=\"#f8ddc9\" stroke=\"black\" d=\"M548,-53C548,-53 444,-53 444,-53 438,-53 432,-47 432,-41 432,-41 432,-12 432,-12 432,-6 438,0 444,0 444,0 548,0 548,0 554,0 560,-6 560,-12 560,-12 560,-41 560,-41 560,-47 554,-53 548,-53\"/>\r\n",
       "<text text-anchor=\"middle\" x=\"496\" y=\"-37.8\" font-family=\"Helvetica,sans-Serif\" font-size=\"14.00\">mse = 2695.04</text>\r\n",
       "<text text-anchor=\"middle\" x=\"496\" y=\"-22.8\" font-family=\"Helvetica,sans-Serif\" font-size=\"14.00\">samples = 13.0%</text>\r\n",
       "<text text-anchor=\"middle\" x=\"496\" y=\"-7.8\" font-family=\"Helvetica,sans-Serif\" font-size=\"14.00\">value = 136.11</text>\r\n",
       "</g>\r\n",
       "<!-- 5&#45;&gt;7 -->\r\n",
       "<g id=\"edge7\" class=\"edge\">\r\n",
       "<title>5&#45;&gt;7</title>\r\n",
       "<path fill=\"none\" stroke=\"black\" d=\"M404.31,-88.95C418.78,-79.25 434.56,-68.68 448.89,-59.07\"/>\r\n",
       "<polygon fill=\"black\" stroke=\"black\" points=\"451.24,-61.71 457.6,-53.24 447.34,-55.9 451.24,-61.71\"/>\r\n",
       "</g>\r\n",
       "</g>\r\n",
       "</svg>\r\n"
      ],
      "text/plain": [
       "<graphviz.files.Source at 0x269c9805fa0>"
      ]
     },
     "execution_count": 7,
     "metadata": {},
     "output_type": "execute_result"
    }
   ],
   "source": [
    "\n",
    "# view the tree\n",
    "# conda install python-graphviz\n",
    "dot_data = export_graphviz(reg, precision=2,\n",
    "                     feature_names=predictors,  \n",
    "                     proportion=True,\n",
    "                     filled=True, rounded=True)\n",
    "graph = graphviz.Source(dot_data)  \n",
    "graph"
   ]
  },
  {
   "cell_type": "code",
   "execution_count": 8,
   "metadata": {},
   "outputs": [
    {
     "name": "stdout",
     "output_type": "stream",
     "text": [
      "rmse: 59.50\n"
     ]
    }
   ],
   "source": [
    "\n",
    "# make predictions and compute error\n",
    "y_predict = reg.predict(X_test)\n",
    "errors = y_test - y_predict\n",
    "rmse = np.sqrt((errors**2).mean())\n",
    "print('rmse: {:0.2f}'.format(rmse))"
   ]
  },
  {
   "cell_type": "code",
   "execution_count": null,
   "metadata": {},
   "outputs": [],
   "source": []
  },
  {
   "cell_type": "code",
   "execution_count": null,
   "metadata": {},
   "outputs": [],
   "source": []
  }
 ],
 "metadata": {
  "kernelspec": {
   "display_name": "Python 3",
   "language": "python",
   "name": "python3"
  },
  "language_info": {
   "codemirror_mode": {
    "name": "ipython",
    "version": 3
   },
   "file_extension": ".py",
   "mimetype": "text/x-python",
   "name": "python",
   "nbconvert_exporter": "python",
   "pygments_lexer": "ipython3",
   "version": "3.8.5"
  }
 },
 "nbformat": 4,
 "nbformat_minor": 2
}
